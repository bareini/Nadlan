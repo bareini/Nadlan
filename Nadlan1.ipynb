{
 "cells": [
  {
   "cell_type": "markdown",
   "metadata": {},
   "source": [
    "# Scraping\n",
    "\n",
    "This notebook follows an example of scraping Nadlan Gov. It yeilds a query csv in 'data/gov' folder which will be avilable of off line analysis. \n",
    "\n",
    "Follow the comments to modify and try different queries.\n",
    "\n",
    "**Note:** This proceedure takes time, queries with a mutiple results could take a long time. Try not to query about more than one neigberhood."
   ]
  },
  {
   "cell_type": "code",
   "execution_count": null,
   "metadata": {},
   "outputs": [],
   "source": [
    "import time\n",
    "\n",
    "from bs4 import BeautifulSoup\n",
    "from selenium import webdriver\n",
    "from selenium.webdriver.support import expected_conditions as EC\n",
    "from selenium.webdriver.common.by import By\n",
    "from selenium.webdriver.support.ui import WebDriverWait as wait\n",
    "from selenium.common.exceptions import ElementClickInterceptedException\n",
    "from selenium.webdriver.common.action_chains import ActionChains\n",
    "\n",
    "# import org.openqa.selenium.JavascriptExecutor as JavascriptExecutor\n",
    "import pprint\n",
    "import pandas as pd"
   ]
  },
  {
   "cell_type": "code",
   "execution_count": null,
   "metadata": {},
   "outputs": [],
   "source": [
    "# insert your q\n",
    "q = 'רמת בגין חיפה'\n"
   ]
  },
  {
   "cell_type": "code",
   "execution_count": null,
   "metadata": {},
   "outputs": [],
   "source": [
    "# update to your driver path\n",
    "DRIVER_PATH = '/chromedriver'\n",
    "\n",
    "q = '%20'.join(q.split(' '))\n",
    "url = f'https://www.nadlan.gov.il/?search={q}'\n",
    "browser = webdriver.Chrome(executable_path=DRIVER_PATH)\n",
    "browser.get(url)\n",
    "\n",
    "# now wait for load\n",
    "browser.implicitly_wait(5)\n",
    "\n",
    "browser.set_window_size(1500, 1000)"
   ]
  },
  {
   "cell_type": "code",
   "execution_count": null,
   "metadata": {},
   "outputs": [],
   "source": [
    "class infinite_scroll(object):\n",
    "   \n",
    "    def __init__(self, last):\n",
    "    \n",
    "        self.last = last\n",
    "\n",
    "    def __call__(self, driver):\n",
    "        new = driver.execute_script('return document.body.scrollHeight')  \n",
    "        if new > self.last:\n",
    "            return new\n",
    "        else:\n",
    "            return False\n",
    "    "
   ]
  },
  {
   "cell_type": "code",
   "execution_count": null,
   "metadata": {},
   "outputs": [],
   "source": [
    "last_height = browser.execute_script('return document.body.scrollHeight')\n",
    "print(last_height)\n",
    "flag=1\n",
    "\n",
    "while flag==1:\n",
    "    browser.execute_script('window.scrollTo(0,document.body.scrollHeight)')\n",
    "    sleep(randint(8,12))\n",
    "\n",
    "    try:\n",
    "        w = wait(browser, 10)\n",
    "\n",
    "        new_height = w.until(infinite_scroll( last_height))\n",
    "        last_height = new_height\n",
    "\n",
    "    except:\n",
    "        print(\"End of page reached\")\n",
    "        flag = 0"
   ]
  },
  {
   "cell_type": "code",
   "execution_count": null,
   "metadata": {},
   "outputs": [],
   "source": [
    "table = browser.find_elements_by_class_name(\"tableRow\")\n",
    "len(table)"
   ]
  },
  {
   "cell_type": "code",
   "execution_count": null,
   "metadata": {},
   "outputs": [],
   "source": [
    "def expand_and_read(r):\n",
    "    \n",
    "    r.find_elements_by_tag_name(\"button\")[0].click()\n",
    "    y = r.find_elements_by_class_name(\"value\")\n",
    "    col_dict = dict()\n",
    "    col_dict['שנת בנייה מבנה'] = y[0].text\n",
    "    col_dict['שנת בנייה דירה'] = y[1].text\n",
    "    col_dict['קומות במבנה'] = y[2].text\n",
    "    \n",
    "    return col_dict"
   ]
  },
  {
   "cell_type": "code",
   "execution_count": null,
   "metadata": {},
   "outputs": [],
   "source": [
    "relevant_col_names = ['קומות במבנה','שנת בנייה דירה','שנת בנייה מבנה','תאריך מכירה', 'כתובת', 'גוש חלקה -תת חלקה', 'סוג נכס', 'חדרים', 'קומה', 'מ\"ר','סכום']\n",
    "relevant_col_dict = {c:[] for c in relevant_col_names}"
   ]
  },
  {
   "cell_type": "code",
   "execution_count": null,
   "metadata": {
    "scrolled": true
   },
   "outputs": [],
   "source": [
    "for idx in range(len(table)):\n",
    "    print(idx)\n",
    "    row = table[idx]\n",
    "    cols = row.find_elements_by_class_name(\"tableCol\")\n",
    "\n",
    "    # naive map - in absence of unique tags or title per col\n",
    "    relevant_col_dict['תאריך מכירה'].append(cols[0].find_elements_by_tag_name(\"div\")[0].text)\n",
    "    relevant_col_dict['כתובת'].append(cols[1].find_elements_by_tag_name(\"div\")[0].text)\n",
    "    relevant_col_dict['גוש חלקה -תת חלקה'].append(cols[2].find_elements_by_tag_name(\"div\")[0].text)\n",
    "    relevant_col_dict['סוג נכס'].append(cols[3].find_elements_by_tag_name(\"div\")[0].text)\n",
    "    relevant_col_dict['חדרים'].append(cols[4].find_elements_by_tag_name(\"div\")[0].text)\n",
    "    relevant_col_dict['קומה'].append(cols[5].find_elements_by_tag_name(\"div\")[0].text)\n",
    "    relevant_col_dict['מ\"ר'].append(cols[6].find_elements_by_tag_name(\"div\")[0].text)\n",
    "    relevant_col_dict['סכום'].append(cols[7].find_elements_by_tag_name(\"div\")[0].text)\n",
    "    \n",
    "    ActionChains(browser).move_to_element(row).perform()\n",
    "    sleep(randint(1,5))\n",
    "\n",
    "    build_dict = expand_and_read(row)\n",
    "    relevant_col_dict['שנת בנייה מבנה'].append(build_dict['שנת בנייה מבנה'])\n",
    "    relevant_col_dict['שנת בנייה דירה'].append(build_dict['שנת בנייה דירה'])\n",
    "    relevant_col_dict['קומות במבנה'].append(build_dict['קומות במבנה'])"
   ]
  },
  {
   "cell_type": "code",
   "execution_count": null,
   "metadata": {},
   "outputs": [],
   "source": [
    "# nadlan_df = pd.DataFrame.from_dict(relevant_col_dict)\n",
    "\n",
    "for k,v in relevant_col_dict.items():\n",
    "    print(f'{k}: {len(v)}')"
   ]
  },
  {
   "cell_type": "code",
   "execution_count": null,
   "metadata": {},
   "outputs": [],
   "source": [
    "# where appartment's year is missing it is likely it is the same as building's year\n",
    "\n",
    "nadlan_df.loc[nadlan_df['שנת בנייה דירה'] == '-', 'שנת בנייה דירה'] = nadlan_df.loc[nadlan_df['שנת בנייה דירה'] == '-', 'שנת בנייה מבנה']\n",
    "nadlan_df"
   ]
  },
  {
   "cell_type": "code",
   "execution_count": null,
   "metadata": {},
   "outputs": [],
   "source": [
    "# name your csv\n",
    "csv_name = 'Neve Shaanan'\n",
    "\n",
    "nadlan_df.to_csv(f'data/gov/{csv_name}.csv', index=False)"
   ]
  },
  {
   "cell_type": "code",
   "execution_count": null,
   "metadata": {},
   "outputs": [],
   "source": []
  }
 ],
 "metadata": {
  "kernelspec": {
   "display_name": "Python 3",
   "language": "python",
   "name": "python3"
  },
  "language_info": {
   "codemirror_mode": {
    "name": "ipython",
    "version": 3
   },
   "file_extension": ".py",
   "mimetype": "text/x-python",
   "name": "python",
   "nbconvert_exporter": "python",
   "pygments_lexer": "ipython3",
   "version": "3.8.3"
  },
  "toc": {
   "base_numbering": 1,
   "nav_menu": {},
   "number_sections": true,
   "sideBar": true,
   "skip_h1_title": false,
   "title_cell": "Table of Contents",
   "title_sidebar": "Contents",
   "toc_cell": false,
   "toc_position": {},
   "toc_section_display": true,
   "toc_window_display": false
  }
 },
 "nbformat": 4,
 "nbformat_minor": 2
}
